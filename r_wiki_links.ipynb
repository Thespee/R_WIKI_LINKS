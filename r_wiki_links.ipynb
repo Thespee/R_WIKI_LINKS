{
 "cells": [
  {
   "cell_type": "code",
   "execution_count": 1,
   "id": "2f92e893",
   "metadata": {
    "vscode": {
     "languageId": "r"
    }
   },
   "outputs": [
    {
     "name": "stderr",
     "output_type": "stream",
     "text": [
      "also installing the dependencies 'remotes', 'glue', 'R.methodsS3', 'R.oo', 'R.utils', 'rex', 'cyclocomp', 'brew', 'cli', 'commonmark', 'desc', 'pkgload', 'purrr', 'rlang', 'cpp11', 'magrittr', 'R.cache', 'rematch2', 'rprojroot', 'collections', 'fs', 'lintr', 'R6', 'roxygen2', 'styler', 'xml2', 'xmlparsedata'\n",
      "\n"
     ]
    },
    {
     "name": "stdout",
     "output_type": "stream",
     "text": [
      "\n",
      "  There are binary versions available but the source versions are later:\n",
      "               binary source needs_compilation\n",
      "remotes         2.3.0  2.4.2             FALSE\n",
      "glue            1.4.2  1.6.2              TRUE\n",
      "R.methodsS3     1.8.1  1.8.2             FALSE\n",
      "R.oo           1.24.0 1.25.0             FALSE\n",
      "R.utils        2.10.1 2.11.0             FALSE\n",
      "rex             1.2.0  1.2.1             FALSE\n",
      "brew            1.0-6  1.0-7             FALSE\n",
      "cli             2.5.0  3.3.0              TRUE\n",
      "commonmark        1.7  1.8.0              TRUE\n",
      "desc            1.3.0  1.4.1             FALSE\n",
      "pkgload         1.2.1  1.2.4             FALSE\n",
      "rlang          0.4.11  1.0.2              TRUE\n",
      "cpp11           0.2.7  0.4.2             FALSE\n",
      "magrittr        2.0.1  2.0.3              TRUE\n",
      "rprojroot       2.0.2  2.0.3             FALSE\n",
      "fs              1.5.0  1.5.2              TRUE\n",
      "lintr           2.0.1  3.0.0             FALSE\n",
      "R6              2.5.0  2.5.1             FALSE\n",
      "roxygen2        7.1.1  7.2.0              TRUE\n",
      "styler          1.4.1  1.7.0             FALSE\n",
      "xml2            1.3.2  1.3.3              TRUE\n",
      "languageserver 0.3.10 0.3.13              TRUE\n",
      "\n",
      "  Binaries will be installed\n",
      "package 'glue' successfully unpacked and MD5 sums checked\n",
      "package 'cyclocomp' successfully unpacked and MD5 sums checked\n",
      "package 'cli' successfully unpacked and MD5 sums checked\n",
      "package 'commonmark' successfully unpacked and MD5 sums checked\n",
      "package 'purrr' successfully unpacked and MD5 sums checked\n",
      "package 'rlang' successfully unpacked and MD5 sums checked\n",
      "package 'magrittr' successfully unpacked and MD5 sums checked\n",
      "package 'R.cache' successfully unpacked and MD5 sums checked\n",
      "package 'rematch2' successfully unpacked and MD5 sums checked\n",
      "package 'collections' successfully unpacked and MD5 sums checked\n",
      "package 'fs' successfully unpacked and MD5 sums checked\n",
      "package 'roxygen2' successfully unpacked and MD5 sums checked\n",
      "package 'xml2' successfully unpacked and MD5 sums checked\n",
      "package 'xmlparsedata' successfully unpacked and MD5 sums checked\n",
      "package 'languageserver' successfully unpacked and MD5 sums checked\n",
      "\n",
      "The downloaded binary packages are in\n",
      "\tC:\\Users\\Rage4\\AppData\\Local\\Temp\\RtmpuqKeO9\\downloaded_packages\n"
     ]
    },
    {
     "name": "stderr",
     "output_type": "stream",
     "text": [
      "installing the source packages 'remotes', 'R.methodsS3', 'R.oo', 'R.utils', 'rex', 'brew', 'desc', 'pkgload', 'cpp11', 'rprojroot', 'lintr', 'R6', 'styler'\n",
      "\n",
      "Warning message in install.packages(\"languageserver\"):\n",
      "\"installation of package 'lintr' had non-zero exit status\"Warning message in install.packages(\"languageserver\"):\n",
      "\"installation of package 'styler' had non-zero exit status\""
     ]
    }
   ],
   "source": [
    "#Install package to use R w/in VSC\n",
    "install.packages(\"languageserver\")\n",
    "#Installing mediawiki api package\n",
    "install.packages(\"WikipediR\")"
   ]
  },
  {
   "cell_type": "code",
   "execution_count": 68,
   "id": "5f794187",
   "metadata": {
    "vscode": {
     "languageId": "r"
    }
   },
   "outputs": [
    {
     "name": "stdout",
     "output_type": "stream",
     "text": [
      "List of 2\n",
      " $ continue:List of 2\n",
      "  ..$ plcontinue: chr \"3434750|0|1860_United_States_census\"\n",
      "  ..$ continue  : chr \"||\"\n",
      " $ query   :List of 1\n",
      "  ..$ pages:List of 1\n",
      "  .. ..$ 3434750:List of 4\n",
      "  .. .. ..$ pageid: int 3434750\n",
      "  .. .. ..$ ns    : int 0\n",
      "  .. .. ..$ title : chr \"United States\"\n",
      "  .. .. ..$ links :List of 10\n",
      " - attr(*, \"class\")= chr \"plink\"\n"
     ]
    }
   ],
   "source": [
    "#using the mediawiki api\n",
    "library(WikipediR)\n",
    "\n",
    "\n",
    "mainspace_links <- page_links(\"en\",\"wikipedia\", page = \"United States\", namespaces = 0, limit = 10, clean_response = FALSE)\n",
    "str(mainspace_links, max.level = 4)"
   ]
  },
  {
   "cell_type": "code",
   "execution_count": 122,
   "id": "f19854ec",
   "metadata": {
    "vscode": {
     "languageId": "r"
    }
   },
   "outputs": [
    {
     "name": "stdout",
     "output_type": "stream",
     "text": [
      " chr \"100th meridian west\"\n"
     ]
    }
   ],
   "source": [
    "str(mainspace_links$query$pages[[1]]$links[[1]]$title, max.level = 2)"
   ]
  },
  {
   "cell_type": "code",
   "execution_count": 133,
   "metadata": {
    "vscode": {
     "languageId": "r"
    }
   },
   "outputs": [
    {
     "name": "stdout",
     "output_type": "stream",
     "text": [
      "List of 10\n",
      " $ : chr \"100th meridian west\"\n",
      " $ : chr \"117th United States Congress\"\n",
      " $ : chr \"1790 United States census\"\n",
      " $ : chr \"1800 United States census\"\n",
      " $ : chr \"1810 United States census\"\n",
      " $ : chr \"1820 United States census\"\n",
      " $ : chr \"1830 United States census\"\n",
      " $ : chr \"1840 United States census\"\n",
      " $ : chr \"1850 United States census\"\n",
      " $ : chr \"1856 United States presidential election\"\n"
     ]
    }
   ],
   "source": [
    "data_link_titles <- list()\n",
    "\n",
    "for (val in mainspace_links$query$pages[[1]]$links) {\n",
    "    #making sure we only use links that go to wikipedia\n",
    "    if (val$ns == 0){\n",
    "        data_link_titles<-append(data_link_titles, val$title)\n",
    "    }\n",
    "}\n",
    "str(data_link_titles)"
   ]
  },
  {
   "cell_type": "code",
   "execution_count": null,
   "id": "b8b2ebda",
   "metadata": {
    "vscode": {
     "languageId": "r"
    }
   },
   "outputs": [],
   "source": []
  }
 ],
 "metadata": {
  "kernelspec": {
   "display_name": "R",
   "language": "R",
   "name": "ir"
  },
  "language_info": {
   "codemirror_mode": "r",
   "file_extension": ".r",
   "mimetype": "text/x-r-source",
   "name": "R",
   "pygments_lexer": "r",
   "version": "3.6.1"
  }
 },
 "nbformat": 4,
 "nbformat_minor": 5
}
